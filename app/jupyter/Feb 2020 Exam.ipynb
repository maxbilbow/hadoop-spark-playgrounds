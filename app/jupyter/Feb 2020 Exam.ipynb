{
 "cells": [
  {
   "cell_type": "code",
   "execution_count": 1,
   "id": "59edd7c6-68a8-43e7-a92f-7436ef1a578a",
   "metadata": {},
   "outputs": [],
   "source": [
    "from pyspark import SparkContext\n",
    "\n",
    "sc=SparkContext()"
   ]
  },
  {
   "cell_type": "code",
   "execution_count": 2,
   "id": "c166dc41-601f-47ee-9615-9838b2695ffa",
   "metadata": {},
   "outputs": [
    {
     "data": {
      "text/plain": [
       "[0, 4, 16, 25]"
      ]
     },
     "execution_count": 2,
     "metadata": {},
     "output_type": "execute_result"
    }
   ],
   "source": [
    "rdd=sc.parallelize ([0, 2, 4, 5])\n",
    "rdd.map(lambda x: x*x).collect()"
   ]
  },
  {
   "cell_type": "code",
   "execution_count": 4,
   "id": "d8d0286b-5ea1-4953-83ad-a15d591c5eae",
   "metadata": {},
   "outputs": [
    {
     "data": {
      "text/plain": [
       "[7, 11, 6]"
      ]
     },
     "execution_count": 4,
     "metadata": {},
     "output_type": "execute_result"
    }
   ],
   "source": [
    "rdd=sc.parallelize ([-1, 7, 11, 6])\n",
    "rdd.filter(lambda x: x >= 0).collect()\n"
   ]
  },
  {
   "cell_type": "code",
   "execution_count": 11,
   "id": "5097c2ab-a807-49d7-a233-db564a597284",
   "metadata": {},
   "outputs": [
    {
     "data": {
      "text/plain": [
       "[(1, 9), (2, -1), (3, 10)]"
      ]
     },
     "execution_count": 11,
     "metadata": {},
     "output_type": "execute_result"
    }
   ],
   "source": [
    "rdd=sc.parallelize([(1, 3), (2,-1), (3, 4), (1, 6), (3, 6)])\n",
    "rdd.reduceByKey(lambda x,y: x+y).collect()"
   ]
  },
  {
   "cell_type": "code",
   "execution_count": 21,
   "id": "2dec114c-d999-4892-90ec-cf5062d160c4",
   "metadata": {},
   "outputs": [
    {
     "name": "stdout",
     "output_type": "stream",
     "text": [
      "1: [3, 6]\n",
      "2: [-1]\n",
      "3: [4, 6]\n"
     ]
    }
   ],
   "source": [
    "for row in rdd.groupByKey().collect():\n",
    "    print(f'{row[0]}: {list(row[1])}')"
   ]
  },
  {
   "cell_type": "code",
   "execution_count": 18,
   "id": "aff05a3c-f4fc-400a-8fca-e1420c5219d2",
   "metadata": {},
   "outputs": [
    {
     "data": {
      "text/plain": [
       "[(1, 9), (2, 1), (3, 16), (1, 36), (3, 36)]"
      ]
     },
     "execution_count": 18,
     "metadata": {},
     "output_type": "execute_result"
    }
   ],
   "source": [
    " rdd.mapValues(lambda x: x*x).collect()"
   ]
  },
  {
   "cell_type": "code",
   "execution_count": 17,
   "id": "9bcb20cd-7b78-4829-9d5b-c9d4cc9f858e",
   "metadata": {},
   "outputs": [
    {
     "data": {
      "text/plain": [
       "[1, 2, 3, 1, 3]"
      ]
     },
     "execution_count": 17,
     "metadata": {},
     "output_type": "execute_result"
    }
   ],
   "source": [
    "rdd.keys().collect()"
   ]
  },
  {
   "cell_type": "code",
   "execution_count": 16,
   "id": "f910fb21-6404-4bbf-9451-dd833dd27c94",
   "metadata": {},
   "outputs": [
    {
     "data": {
      "text/plain": [
       "[4, 6]"
      ]
     },
     "execution_count": 16,
     "metadata": {},
     "output_type": "execute_result"
    }
   ],
   "source": [
    "rdd.lookup(3)"
   ]
  },
  {
   "cell_type": "code",
   "execution_count": null,
   "id": "28e82845-6462-48d1-8f3d-35889861841f",
   "metadata": {},
   "outputs": [],
   "source": []
  }
 ],
 "metadata": {
  "kernelspec": {
   "display_name": "Python 3 (ipykernel)",
   "language": "python",
   "name": "python3"
  },
  "language_info": {
   "codemirror_mode": {
    "name": "ipython",
    "version": 3
   },
   "file_extension": ".py",
   "mimetype": "text/x-python",
   "name": "python",
   "nbconvert_exporter": "python",
   "pygments_lexer": "ipython3",
   "version": "3.9.7"
  }
 },
 "nbformat": 4,
 "nbformat_minor": 5
}
